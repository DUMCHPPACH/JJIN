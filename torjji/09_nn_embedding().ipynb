{
  "nbformat": 4,
  "nbformat_minor": 0,
  "metadata": {
    "colab": {
      "name": "nn_embedding().ipynb",
      "provenance": [],
      "collapsed_sections": []
    },
    "kernelspec": {
      "name": "python3",
      "display_name": "Python 3"
    },
    "language_info": {
      "name": "python"
    }
  },
  "cells": [
    {
      "cell_type": "code",
      "metadata": {
        "colab": {
          "base_uri": "https://localhost:8080/"
        },
        "id": "VE1TZvS0zUxv",
        "outputId": "e8a51cf2-8d3a-46bc-e272-46b8b8498df8"
      },
      "source": [
        "import torch\n",
        "\n",
        "train_data = 'you need to know how to code'\n",
        "word_set = set(train_data.split()) # 중복을 제거한 단어들의 집합인 단어 집합 생성.\n",
        "vocab = {word: i+2 for i, word in enumerate(word_set)}  # 단어 집합의 각 단어에 고유한 정수 맵핑\n",
        "vocab['<unk>'] = 0\n",
        "vocab['<pad>'] = 1\n",
        "print(vocab)"
      ],
      "execution_count": 17,
      "outputs": [
        {
          "output_type": "stream",
          "name": "stdout",
          "text": [
            "{'to': 2, 'you': 3, 'need': 4, 'know': 5, 'code': 6, 'how': 7, '<unk>': 0, '<pad>': 1}\n"
          ]
        }
      ]
    },
    {
      "cell_type": "code",
      "metadata": {
        "id": "RgVu8ua42Vkd"
      },
      "source": [
        "embedding_table = torch.FloatTensor([\n",
        "                               [ 0.0,  0.0,  0.0],\n",
        "                               [ 0.0,  0.0,  0.0],\n",
        "                               [ 0.2,  0.9,  0.3],\n",
        "                               [ 0.1,  0.5,  0.7],\n",
        "                               [ 0.2,  0.1,  0.8],\n",
        "                               [ 0.4,  0.1,  0.1],\n",
        "                               [ 0.1,  0.8,  0.9],\n",
        "                               [ 0.6,  0.1,  0.1]])"
      ],
      "execution_count": 18,
      "outputs": []
    },
    {
      "cell_type": "code",
      "metadata": {
        "colab": {
          "base_uri": "https://localhost:8080/"
        },
        "id": "dzRYjfSz2Yuf",
        "outputId": "7594ce67-01bf-485f-f560-64f09c94b6cf"
      },
      "source": [
        "# 임의의 샘플 문장\n",
        "sample = 'you need to run'.split()\n",
        "idxes=[]\n",
        "# 각 단어를 정수로 변환\n",
        "for word in sample:\n",
        "  try:\n",
        "    idxes.append(vocab[word])\n",
        "  except KeyError: # 단어 집합에 없는 단어일 경우 <unk>로 대체된다.\n",
        "    idxes.append(vocab['<unk>']) ## run은 없어서 0.000,0.000,0.000 \n",
        "idxes = torch.LongTensor(idxes)\n",
        "\n",
        "# 룩업 테이블\n",
        "lookup_result = embedding_table[idxes, :] # 각 정수를 인덱스로 임베딩 테이블에서 값을 가져온다.\n",
        "print(lookup_result)"
      ],
      "execution_count": 19,
      "outputs": [
        {
          "output_type": "stream",
          "name": "stdout",
          "text": [
            "tensor([[0.1000, 0.5000, 0.7000],\n",
            "        [0.2000, 0.1000, 0.8000],\n",
            "        [0.2000, 0.9000, 0.3000],\n",
            "        [0.0000, 0.0000, 0.0000]])\n"
          ]
        }
      ]
    },
    {
      "cell_type": "code",
      "metadata": {
        "id": "LCW6tPSh2fDL"
      },
      "source": [
        "train_data = 'you need to know how to code'\n",
        "word_set = set(train_data.split()) # 중복을 제거한 단어들의 집합인 단어 집합 생성.\n",
        "vocab = {tkn: i+2 for i, tkn in enumerate(word_set)}  # 단어 집합의 각 단어에 고유한 정수 맵핑.\n",
        "vocab['<unk>'] = 0\n",
        "vocab['<pad>'] = 1\n",
        "\n",
        "import torch.nn as nn\n",
        "embedding_layer = nn.Embedding(num_embeddings = len(vocab), \n",
        "                               embedding_dim = 3,\n",
        "                               padding_idx = 1)"
      ],
      "execution_count": 20,
      "outputs": []
    },
    {
      "cell_type": "code",
      "metadata": {
        "id": "FQfFULZj2z7b"
      },
      "source": [
        ""
      ],
      "execution_count": null,
      "outputs": []
    }
  ]
}
