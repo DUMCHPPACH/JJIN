{
  "nbformat": 4,
  "nbformat_minor": 0,
  "metadata": {
    "colab": {
      "name": "Word2Vec_eng.ipynb",
      "provenance": [],
      "collapsed_sections": []
    },
    "kernelspec": {
      "name": "python3",
      "display_name": "Python 3"
    },
    "language_info": {
      "name": "python"
    }
  },
  "cells": [
    {
      "cell_type": "code",
      "metadata": {
        "colab": {
          "base_uri": "https://localhost:8080/"
        },
        "id": "BR1RWmEAz2E3",
        "outputId": "6f75b7f3-3e16-4684-dd71-6a31bee2eb00"
      },
      "source": [
        "pip install konlpy"
      ],
      "execution_count": 1,
      "outputs": [
        {
          "output_type": "stream",
          "name": "stdout",
          "text": [
            "Collecting konlpy\n",
            "  Downloading konlpy-0.5.2-py2.py3-none-any.whl (19.4 MB)\n",
            "\u001b[K     |████████████████████████████████| 19.4 MB 5.6 MB/s \n",
            "\u001b[?25hCollecting colorama\n",
            "  Downloading colorama-0.4.4-py2.py3-none-any.whl (16 kB)\n",
            "Requirement already satisfied: numpy>=1.6 in /usr/local/lib/python3.7/dist-packages (from konlpy) (1.19.5)\n",
            "Requirement already satisfied: tweepy>=3.7.0 in /usr/local/lib/python3.7/dist-packages (from konlpy) (3.10.0)\n",
            "Requirement already satisfied: lxml>=4.1.0 in /usr/local/lib/python3.7/dist-packages (from konlpy) (4.2.6)\n",
            "Collecting beautifulsoup4==4.6.0\n",
            "  Downloading beautifulsoup4-4.6.0-py3-none-any.whl (86 kB)\n",
            "\u001b[K     |████████████████████████████████| 86 kB 4.0 MB/s \n",
            "\u001b[?25hCollecting JPype1>=0.7.0\n",
            "  Downloading JPype1-1.3.0-cp37-cp37m-manylinux_2_5_x86_64.manylinux1_x86_64.whl (448 kB)\n",
            "\u001b[K     |████████████████████████████████| 448 kB 65.0 MB/s \n",
            "\u001b[?25hRequirement already satisfied: typing-extensions in /usr/local/lib/python3.7/dist-packages (from JPype1>=0.7.0->konlpy) (3.7.4.3)\n",
            "Requirement already satisfied: requests[socks]>=2.11.1 in /usr/local/lib/python3.7/dist-packages (from tweepy>=3.7.0->konlpy) (2.23.0)\n",
            "Requirement already satisfied: six>=1.10.0 in /usr/local/lib/python3.7/dist-packages (from tweepy>=3.7.0->konlpy) (1.15.0)\n",
            "Requirement already satisfied: requests-oauthlib>=0.7.0 in /usr/local/lib/python3.7/dist-packages (from tweepy>=3.7.0->konlpy) (1.3.0)\n",
            "Requirement already satisfied: oauthlib>=3.0.0 in /usr/local/lib/python3.7/dist-packages (from requests-oauthlib>=0.7.0->tweepy>=3.7.0->konlpy) (3.1.1)\n",
            "Requirement already satisfied: chardet<4,>=3.0.2 in /usr/local/lib/python3.7/dist-packages (from requests[socks]>=2.11.1->tweepy>=3.7.0->konlpy) (3.0.4)\n",
            "Requirement already satisfied: idna<3,>=2.5 in /usr/local/lib/python3.7/dist-packages (from requests[socks]>=2.11.1->tweepy>=3.7.0->konlpy) (2.10)\n",
            "Requirement already satisfied: certifi>=2017.4.17 in /usr/local/lib/python3.7/dist-packages (from requests[socks]>=2.11.1->tweepy>=3.7.0->konlpy) (2021.5.30)\n",
            "Requirement already satisfied: urllib3!=1.25.0,!=1.25.1,<1.26,>=1.21.1 in /usr/local/lib/python3.7/dist-packages (from requests[socks]>=2.11.1->tweepy>=3.7.0->konlpy) (1.24.3)\n",
            "Requirement already satisfied: PySocks!=1.5.7,>=1.5.6 in /usr/local/lib/python3.7/dist-packages (from requests[socks]>=2.11.1->tweepy>=3.7.0->konlpy) (1.7.1)\n",
            "Installing collected packages: JPype1, colorama, beautifulsoup4, konlpy\n",
            "  Attempting uninstall: beautifulsoup4\n",
            "    Found existing installation: beautifulsoup4 4.6.3\n",
            "    Uninstalling beautifulsoup4-4.6.3:\n",
            "      Successfully uninstalled beautifulsoup4-4.6.3\n",
            "Successfully installed JPype1-1.3.0 beautifulsoup4-4.6.0 colorama-0.4.4 konlpy-0.5.2\n"
          ]
        }
      ]
    },
    {
      "cell_type": "code",
      "metadata": {
        "colab": {
          "base_uri": "https://localhost:8080/"
        },
        "id": "9FRnRGeQz3bs",
        "outputId": "1a942172-050a-46b0-9b7a-ca62786ccced"
      },
      "source": [
        "from konlpy.tag import Okt\n",
        "okt = Okt()\n",
        "token = okt.morphs(\"나는 자연어 처리를 배운다\")\n",
        "print(token)\n"
      ],
      "execution_count": 2,
      "outputs": [
        {
          "output_type": "stream",
          "name": "stdout",
          "text": [
            "['나', '는', '자연어', '처리', '를', '배운다']\n"
          ]
        }
      ]
    },
    {
      "cell_type": "code",
      "metadata": {
        "colab": {
          "base_uri": "https://localhost:8080/"
        },
        "id": "3ti6ZseY0Ez2",
        "outputId": "69d13d77-cda1-47ed-d9b2-33477c60de93"
      },
      "source": [
        "#인덱스 부여\n",
        "word2index = {}\n",
        "for voca in token :\n",
        "  if voca not in word2index.keys():\n",
        "    word2index[voca] = len(word2index)\n",
        "print(word2index)"
      ],
      "execution_count": 3,
      "outputs": [
        {
          "output_type": "stream",
          "name": "stdout",
          "text": [
            "{'나': 0, '는': 1, '자연어': 2, '처리': 3, '를': 4, '배운다': 5}\n"
          ]
        }
      ]
    },
    {
      "cell_type": "code",
      "metadata": {
        "colab": {
          "base_uri": "https://localhost:8080/"
        },
        "id": "M-fAjF8u0WCA",
        "outputId": "abcd0a2c-3244-463d-dc0e-ac4281c24cdf"
      },
      "source": [
        "#빈도수 순대로 단어를 정렬하는 작업\n",
        "def one_hot_encoding(word, word2index):\n",
        "  one_hot_vector = [0]*(len(word2index))\n",
        "  index = word2index[word]\n",
        "  one_hot_vector[index] = 1\n",
        "  return one_hot_vector\n",
        "\n",
        "one_hot_encoding(\"자연어\",word2index)"
      ],
      "execution_count": 5,
      "outputs": [
        {
          "output_type": "execute_result",
          "data": {
            "text/plain": [
              "[0, 0, 1, 0, 0, 0]"
            ]
          },
          "metadata": {},
          "execution_count": 5
        }
      ]
    },
    {
      "cell_type": "code",
      "metadata": {
        "colab": {
          "base_uri": "https://localhost:8080/"
        },
        "id": "SLEjrVWx1CPY",
        "outputId": "d9803d2b-2add-4897-871e-f07bee0b3805"
      },
      "source": [
        "###워드임베딩###\n",
        "#1;.희소표현\n",
        "import torch\n",
        "\n",
        "#원핫벡터 생성\n",
        "dog = torch.FloatTensor([1,0,0,0,0])\n",
        "cat = torch.FloatTensor([0,1,0,0,0])\n",
        "computer = torch.FloatTensor([0,0,1,0,0])\n",
        "netbook = torch.FloatTensor([0,0,0,1,0])\n",
        "book = torch.FloatTensor([0,0,0,0,1])\n",
        "\n",
        "print(torch.cosine_similarity(dog, cat, dim=0))\n",
        "print(torch.cosine_similarity(cat, computer, dim=0))\n",
        "print(torch.cosine_similarity(computer, netbook, dim=0))\n",
        "print(torch.cosine_similarity(netbook, book, dim=0))\n",
        "#단어의 유사성을 표현하지못함 빠가!!\n",
        "\n",
        "#2.밀집표현\n",
        "#사용자가 설정한 값으로 모든 단어의 백터 표현의 차원을 맞춤!(0과 1만 가지는게 아닌 실수값을 가지게 됨)\n",
        "\n",
        "#3.워드임베딩\n",
        "# 실수로 학습데이터로 부터 학습!"
      ],
      "execution_count": 6,
      "outputs": [
        {
          "output_type": "stream",
          "name": "stdout",
          "text": [
            "tensor(0.)\n",
            "tensor(0.)\n",
            "tensor(0.)\n",
            "tensor(0.)\n"
          ]
        }
      ]
    },
    {
      "cell_type": "code",
      "metadata": {
        "colab": {
          "base_uri": "https://localhost:8080/"
        },
        "id": "b8rVaU3e3FwN",
        "outputId": "bb62c9c4-7787-4511-cc12-f30ca864b606"
      },
      "source": [
        "###Wod2Vec 훈련시키기\n",
        "\n",
        "#1.영어 word2Vec 만들기\n",
        "\n",
        "import nltk\n",
        "nltk.download('punkt')\n",
        "\n",
        "import urllib.request\n",
        "import zipfile\n",
        "from lxml import etree\n",
        "import re\n",
        "from nltk.tokenize import word_tokenize, sent_tokenize\n",
        "\n",
        "urllib.request.urlretrieve(\"https://raw.githubusercontent.com/GaoleMeng/RNN-and-FFNN-textClassification/master/ted_en-20160408.xml\", filename=\"ted_en-20160408.xml\")\n",
        "\n",
        "# 전처리\n",
        "targetXML=open('ted_en-20160408.xml', 'r', encoding='UTF8')\n",
        "\n",
        "target_text = etree.parse(targetXML)\n",
        "parse_text = '\\n'.join(target_text.xpath('//content/text()'))\n",
        "# xml 파일로부터 <content>와 </content> 사이의 내용만 가져온다.\n",
        "\n",
        "content_text = re.sub(r'\\([^)]*\\)', '', parse_text)\n",
        "# 정규 표현식의 sub 모듈을 통해 content 중간에 등장하는 (Audio), (Laughter) 등의 배경음 부분을 제거.\n",
        "# 해당 코드는 괄호로 구성된 내용을 제거.\n",
        "\n",
        "sent_text = sent_tokenize(content_text)\n",
        "# 입력 코퍼스에 대해서 NLTK를 이용하여 문장 토큰화를 수행.\n",
        "\n",
        "normalized_text = []\n",
        "for string in sent_text:\n",
        "     tokens = re.sub(r\"[^a-z0-9]+\", \" \", string.lower())\n",
        "     normalized_text.append(tokens)\n",
        "# 각 문장에 대해서 구두점을 제거하고, 대문자를 소문자로 변환.\n",
        "\n",
        "result = []\n",
        "result = [word_tokenize(sentence) for sentence in normalized_text]\n",
        "# 각 문장에 대해서 NLTK를 이용하여 단어 토큰화를 수행.\n",
        "\n",
        "print('총 샘플의 개수 : {}'.format(len(result)))\n",
        "\n"
      ],
      "execution_count": 1,
      "outputs": [
        {
          "output_type": "stream",
          "name": "stdout",
          "text": [
            "[nltk_data] Downloading package punkt to /root/nltk_data...\n",
            "[nltk_data]   Unzipping tokenizers/punkt.zip.\n",
            "총 샘플의 개수 : 273424\n"
          ]
        }
      ]
    },
    {
      "cell_type": "code",
      "metadata": {
        "colab": {
          "base_uri": "https://localhost:8080/"
        },
        "id": "LgF-zd9aVkdm",
        "outputId": "6643a3f0-0009-4064-c616-a3cd3da461a6"
      },
      "source": [
        "for line in result[:3]: # 샘플 3개만 출력\n",
        "    print(line)\n",
        "\n",
        "# Word2Vec 훈련\n",
        "from gensim.models import Word2Vec, KeyedVectors\n",
        "model = Word2Vec(sentences=result, size=100, window=5, min_count=5, workers=4, sg=0)\n",
        "\n",
        "model_result = model.wv.most_similar(\"man\")\n",
        "print(model_result)\n",
        "\n",
        "#Word2Vec 모델저장& 로드\n",
        "model.wv.save_word2vec_format('./eng_w2v') # 모델 저장\n",
        "loaded_model = KeyedVectors.load_word2vec_format(\"eng_w2v\") # 모델 로드\n",
        "\n",
        "model_result = loaded_model.most_similar(\"man\")\n",
        "print(model_result)\n"
      ],
      "execution_count": 2,
      "outputs": [
        {
          "output_type": "stream",
          "name": "stdout",
          "text": [
            "['here', 'are', 'two', 'reasons', 'companies', 'fail', 'they', 'only', 'do', 'more', 'of', 'the', 'same', 'or', 'they', 'only', 'do', 'what', 's', 'new']\n",
            "['to', 'me', 'the', 'real', 'real', 'solution', 'to', 'quality', 'growth', 'is', 'figuring', 'out', 'the', 'balance', 'between', 'two', 'activities', 'exploration', 'and', 'exploitation']\n",
            "['both', 'are', 'necessary', 'but', 'it', 'can', 'be', 'too', 'much', 'of', 'a', 'good', 'thing']\n",
            "[('woman', 0.8621014952659607), ('guy', 0.8228507041931152), ('boy', 0.7803660035133362), ('girl', 0.7797322273254395), ('lady', 0.7794908285140991), ('gentleman', 0.7606490850448608), ('soldier', 0.750495195388794), ('kid', 0.6909241676330566), ('poet', 0.6628771424293518), ('son', 0.6621164083480835)]\n",
            "[('woman', 0.8621014952659607), ('guy', 0.8228507041931152), ('boy', 0.7803660035133362), ('girl', 0.7797322273254395), ('lady', 0.7794908285140991), ('gentleman', 0.7606490850448608), ('soldier', 0.750495195388794), ('kid', 0.6909241676330566), ('poet', 0.6628771424293518), ('son', 0.6621164083480835)]\n"
          ]
        }
      ]
    },
    {
      "cell_type": "code",
      "metadata": {
        "id": "Nr6NdiTuWrhL"
      },
      "source": [
        ""
      ],
      "execution_count": null,
      "outputs": []
    }
  ]
}
